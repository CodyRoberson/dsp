{
 "cells": [
  {
   "cell_type": "code",
   "execution_count": 185,
   "id": "5846e0f2-effe-4023-9e96-5d6a76cf9f42",
   "metadata": {},
   "outputs": [],
   "source": [
    "from numpy import linspace, sin, cos, exp, pi, round\n",
    "import numpy as np\n",
    "import matplotlib.pyplot as plt\n",
    "π = pi"
   ]
  },
  {
   "cell_type": "code",
   "execution_count": 111,
   "id": "2564dc8b-597f-448c-a8d1-699d062ac6d8",
   "metadata": {},
   "outputs": [],
   "source": [
    "# Set up some parameters\n",
    "FREQ = 62.5 # Desired Frequency in Hz\n",
    "OMEGA = ω = 2*π*FREQ\n",
    "PHASE = 0\n",
    "FS = 8000 # FS = 4096 = Analog-digital-converter sampling at this speed (128(MHz)\n",
    "N = 8 # number of DFT points"
   ]
  },
  {
   "cell_type": "code",
   "execution_count": null,
   "id": "738b4511-feff-4e5c-afe8-55abea00b345",
   "metadata": {},
   "outputs": [],
   "source": [
    "t = linspace(0,1,FS) "
   ]
  },
  {
   "cell_type": "code",
   "execution_count": null,
   "id": "d87de602-5f13-46d4-a9c7-38d067cca8ff",
   "metadata": {},
   "outputs": [],
   "source": [
    "complexWave = exp(1j * ω * t + PHASE) # This is equivalent to [ cos(ωt)+ -1jSin(ωt) ]\n",
    "cW = complexWave"
   ]
  },
  {
   "cell_type": "code",
   "execution_count": 246,
   "id": "b0672c56-60ce-478b-b0fa-0e63f9e569fa",
   "metadata": {},
   "outputs": [
    {
     "data": {
      "text/plain": [
       "array([ 0.35355339,  0.3535534 ,  0.64672439,  1.0606598 ,  0.35221186,\n",
       "       -1.0620479 , -1.35271847, -0.35160981])"
      ]
     },
     "execution_count": 246,
     "metadata": {},
     "output_type": "execute_result"
    }
   ],
   "source": [
    "# book walkthrough example for debugging. The wave and DFT equation will use this block instead of the 'complexWave variable'\n",
    "FS = 8000 # FS\n",
    "N = 8 # number of DFT points\n",
    "t = linspace(0,1,FS-1) \n",
    "wave2 = sin(2*pi*1000*t)+0.5*sin(2*pi*2000*t + (3*pi/4))\n",
    "wave2[0:8]"
   ]
  },
  {
   "cell_type": "markdown",
   "id": "4cf26ced-3786-40ee-b72c-e46104772c45",
   "metadata": {},
   "source": [
    "**Lets make a plot!**"
   ]
  },
  {
   "cell_type": "code",
   "execution_count": 177,
   "id": "c5e347bb-7ae7-4fd8-a516-0dbfb2056826",
   "metadata": {},
   "outputs": [
    {
     "data": {
      "image/png": "[encoded data removed]",
      "text/plain": [
       "<Figure size 864x576 with 1 Axes>"
      ]
     },
     "metadata": {
      "needs_background": "light"
     },
     "output_type": "display_data"
    }
   ],
   "source": [
    "plt.figure(figsize=(12,8))\n",
    "plt.plot(wave2.real)\n",
    "plt.plot(wave2.imag)\n",
    "# plt.xlim(-10,100)\n",
    "plt.grid()\n",
    "plt.show()"
   ]
  },
  {
   "cell_type": "markdown",
   "id": "2e9b6e95-fbca-4731-b299-a69e5b69a853",
   "metadata": {},
   "source": [
    "### Discrete Fourier Transform\n",
    "_\"Understanding Digital Signal Processing\", RICHARD G LYONS: Chapter 3_\n"
   ]
  },
  {
   "cell_type": "code",
   "execution_count": 178,
   "id": "e0a322e8-e8e7-4e2b-a3b7-5bf3db0dcf12",
   "metadata": {},
   "outputs": [
    {
     "name": "stdout",
     "output_type": "stream",
     "text": [
      "8000 Hz\n"
     ]
    }
   ],
   "source": [
    "# My signal above has an FS of \n",
    "print(\"{} Hz\".format(FS))"
   ]
  },
  {
   "cell_type": "code",
   "execution_count": 179,
   "id": "68e5c737-60f9-433b-8fa4-bfd4a729a021",
   "metadata": {},
   "outputs": [
    {
     "name": "stdout",
     "output_type": "stream",
     "text": [
      "fanalysis is 1000.0 Hz. the other x(m) frequencies will be integral multiples of 1000.0Hz such as 2000.0Hz, and 3000.0Hz\n"
     ]
    }
   ],
   "source": [
    "# When I decide how many points my DFT will have or 'N'.\n",
    "# This will result in the dft haveing fundamental frequency of FS/N\n",
    "FF = FS/N\n",
    "print(\"fanalysis is {0} Hz. the other x(m) frequencies will be integral multiples of {0}Hz such as {1}Hz, and {2}Hz\".format(FF, FF*2, FF*3))\n",
    "\n",
    "# it will divide my space up into 4 Hz Increments"
   ]
  },
  {
   "cell_type": "markdown",
   "id": "001304b0-f4a6-4556-b550-337acfc99bf1",
   "metadata": {},
   "source": [
    "### DFT Equation\n",
    "$ X(m) = \\sum_{n=0}^{N-1}x(n)e^{-j2\\pi nm/N} $ \n",
    "\n",
    "Which is equivalent to\n",
    "\n",
    "$ X(m) = \\sum_{n=0}^{N-1}x(n)[cos(2\\pi nm / N) -1jsin(2\\pi nm / N)]) $\n",
    "\n",
    "From Euler's relationship"
   ]
  },
  {
   "cell_type": "code",
   "execution_count": 247,
   "id": "fe7b2aae-6ca0-4ed0-8700-ca3aa3725667",
   "metadata": {},
   "outputs": [],
   "source": [
    "def dftEQ1(ts, N):\n",
    "    \"\"\" This algo has been modified to print out all of it's calculations for debugging purposes. \n",
    "        \n",
    "    \"\"\"\n",
    "    if N < 20:\n",
    "        print(\"N DFT points < 20, logging calculations to file\")\n",
    "        file = open(\"discreteFourierTransform_eq1.txt\", 'w')\n",
    "        nPoints = N\n",
    "        bigX = []\n",
    "        for m in range(0, nPoints):\n",
    "            x = 0\n",
    "            for n in range(nPoints):\n",
    "                x += ts[n] * exp(-1j*2*pi*n*m / nPoints)\n",
    "                file.write(\"x({1}) * exp(-1j * 2 * π * {1} * {2} / {3}) ===> \".format(round(ts[n],4), n, m, nPoints))\n",
    "                file.write(\"\\t{0} * {1} \\t = {2}\\r\\n\".format(round(ts[n],3), round(exp(-1j*2*pi*n*m / nPoints),3), round(x,3)))\n",
    "            bigX.append(x)\n",
    "            xreal = round(x.real, 2)\n",
    "            ximag = round(x.imag, 2)\n",
    "            file.write(\"{0} ==> Magnitude = {1} ∠ {2}\\r\\n\\r\\n\".format(round(x,3), round(np.sqrt(xreal**2 + ximag**2),2),\n",
    "                                                                      round( (np.arctan(x.imag/x.real)*180) / pi, 1)))\n",
    "        print(\"Analaysis Frequency = {} Hz\".format(FS/nPoints))\n",
    "        file.close()\n",
    "        return np.array(bigX)\n",
    "    else:\n",
    "        nPoints = N\n",
    "        bigX = []\n",
    "        for m in range(1, nPoints):\n",
    "            x = 0\n",
    "            for n in range(nPoints):\n",
    "                x += ts[n] * exp(-1j*2*pi*n*m / nPoints)\n",
    "            bigX.append(x)\n",
    "        print(\"Analaysis Frequency = {} Hz\".format(FS/nPoints))\n",
    "        file.close()\n",
    "        return np.array(bigX)\n",
    "\n",
    "def dftEQ2(ts, nPoints):\n",
    "    bigX = []\n",
    "    for m in range(nPoints):\n",
    "        x = 0\n",
    "        for n in range(nPoints):\n",
    "            x = x + (ts[n]*cos((2*pi*n*m)/nPoints)) + (-1j*ts[n]*(sin((2*pi*n*m)/nPoints)))\n",
    "        bigX.append(x)\n",
    "    print(\"Analaysis Frequency = {} Hz or FS/N\".format(FS/nPoints))\n",
    "    return np.array(bigX)"
   ]
  },
  {
   "cell_type": "code",
   "execution_count": 248,
   "id": "77d9c27f-6169-4fa2-82ac-8e3b54704afc",
   "metadata": {},
   "outputs": [
    {
     "name": "stdout",
     "output_type": "stream",
     "text": [
      "N DFT points < 20, logging calculations to file\n",
      "Analaysis Frequency = 1000.0 Hz\n"
     ]
    }
   ],
   "source": [
    "result = dftEQ1(wave2, 8)"
   ]
  },
  {
   "cell_type": "code",
   "execution_count": 249,
   "id": "8b70807c-a144-40d5-9339-2e235f6ac9b9",
   "metadata": {},
   "outputs": [
    {
     "data": {
      "image/png": "[encoded data removed]",
      "text/plain": [
       "<Figure size 864x576 with 1 Axes>"
      ]
     },
     "metadata": {
      "needs_background": "light"
     },
     "output_type": "display_data"
    }
   ],
   "source": [
    "plt.figure(figsize=(12,8))\n",
    "plt.plot(result.real, 'o-')\n",
    "plt.plot(result.imag, 'o-')\n",
    "# plt.xlim(0, FS/2)\n",
    "# plt.xlim(490, 510)\n",
    "plt.grid()\n",
    "plt.show()"
   ]
  },
  {
   "cell_type": "code",
   "execution_count": null,
   "id": "20b05a70-2ff4-4ee6-a1cc-64fbe2e6dc0c",
   "metadata": {},
   "outputs": [],
   "source": []
  },
  {
   "cell_type": "code",
   "execution_count": null,
   "id": "c3676bf6-889a-4858-9b62-83c2a98a3866",
   "metadata": {},
   "outputs": [],
   "source": []
  }
 ],
 "metadata": {
  "kernelspec": {
   "display_name": "Python 3 (ipykernel)",
   "language": "python",
   "name": "python3"
  },
  "language_info": {
   "codemirror_mode": {
    "name": "ipython",
    "version": 3
   },
   "file_extension": ".py",
   "mimetype": "text/x-python",
   "name": "python",
   "nbconvert_exporter": "python",
   "pygments_lexer": "ipython3",
   "version": "3.9.7"
  }
 },
 "nbformat": 4,
 "nbformat_minor": 5
}
